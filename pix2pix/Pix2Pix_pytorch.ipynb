{
 "cells": [
  {
   "cell_type": "markdown",
   "metadata": {},
   "source": [
    "<a href=\"https://colab.research.google.com/github/aniketmaurya/pytorch-gans/blob/main/pix2pix/Pix2Pix_pytorch.ipynb\" target=\"_parent\"><img src=\"https://colab.research.google.com/assets/colab-badge.svg\" alt=\"Open In Colab\"/></a>"
   ]
  },
  {
   "cell_type": "code",
   "execution_count": null,
   "metadata": {},
   "outputs": [],
   "source": [
    "# !pip install -U pytorch-lightning"
   ]
  },
  {
   "cell_type": "code",
   "execution_count": null,
   "metadata": {},
   "outputs": [
    {
     "data": {
      "text/plain": [
       "<torch._C.Generator at 0x7fecb55525f0>"
      ]
     },
     "execution_count": null,
     "metadata": {},
     "output_type": "execute_result"
    }
   ],
   "source": [
    "import torch\n",
    "from torch import nn\n",
    "from tqdm.auto import tqdm\n",
    "from torchvision import transforms\n",
    "from torchvision.utils import make_grid\n",
    "from torch.utils.data import DataLoader\n",
    "import matplotlib.pyplot as plt\n",
    "torch.manual_seed(0)"
   ]
  },
  {
   "cell_type": "code",
   "execution_count": null,
   "metadata": {},
   "outputs": [],
   "source": [
    "from torch.utils.data import Dataset\n",
    "from torchvision import transforms\n",
    "import os\n",
    "from glob import glob\n",
    "from pathlib import Path\n",
    "from PIL import Image"
   ]
  },
  {
   "cell_type": "code",
   "execution_count": null,
   "metadata": {},
   "outputs": [],
   "source": [
    "# New parameters\n",
    "adv_criterion = nn.BCEWithLogitsLoss() \n",
    "recon_criterion = nn.L1Loss() \n",
    "lambda_recon = 200\n",
    "\n",
    "n_epochs = 20\n",
    "\n",
    "display_step = 200\n",
    "batch_size = 4\n",
    "lr = 0.0002\n",
    "target_size = 256\n",
    "device = 'cuda'"
   ]
  },
  {
   "cell_type": "code",
   "execution_count": null,
   "metadata": {},
   "outputs": [],
   "source": [
    "import pytorch_lightning as pl"
   ]
  },
  {
   "cell_type": "code",
   "execution_count": null,
   "metadata": {},
   "outputs": [],
   "source": [
    "def show_tensor_images(image_tensor,\n",
    "                       num_images=25,\n",
    "                       size=(3, 64, 64),\n",
    "                       ret=False):\n",
    "    '''\n",
    "    Function for visualizing images: Given a tensor of images, number of images, and\n",
    "    size per image, plots and prints the images in an uniform grid.\n",
    "    '''\n",
    "    image_tensor = (image_tensor + 1) / 2\n",
    "    image_unflat = image_tensor.detach().cpu()\n",
    "    image_grid = make_grid(image_unflat[:num_images], nrow=5)\n",
    "    if ret:\n",
    "        return image_grid.permute(1, 2, 0).squeeze()\n",
    "    plt.imshow(image_grid.permute(1, 2, 0).squeeze())\n",
    "    plt.show()"
   ]
  },
  {
   "cell_type": "code",
   "execution_count": null,
   "metadata": {},
   "outputs": [],
   "source": [
    "from torchvision import transforms"
   ]
  },
  {
   "cell_type": "code",
   "execution_count": null,
   "metadata": {},
   "outputs": [],
   "source": [
    "# !wget http://efrosgans.eecs.berkeley.edu/pix2pix/datasets/facades.tar.gz\n",
    "# !tar -xvf facades.tar.gz"
   ]
  },
  {
   "cell_type": "code",
   "execution_count": null,
   "metadata": {},
   "outputs": [
    {
     "data": {
      "text/plain": [
       "torch.Size([3, 256, 256])"
      ]
     },
     "execution_count": null,
     "metadata": {},
     "output_type": "execute_result"
    }
   ],
   "source": [
    "# http://efrosgans.eecs.berkeley.edu/pix2pix/datasets/facades.tar.gz\n",
    "path = './facades/train/'\n",
    "\n",
    "class FacadesDataset(Dataset):\n",
    "    def __init__(self, path, target_size=None):\n",
    "        self.filenames = glob(str(Path(path)/'*'))\n",
    "        self.target_size = target_size\n",
    "        \n",
    "        \n",
    "    def __len__(self):\n",
    "        return len(self.filenames)\n",
    "    \n",
    "    def __getitem__(self, idx):\n",
    "        filename = self.filenames[idx]\n",
    "        image = Image.open(filename)\n",
    "        image = transforms.functional.to_tensor(image)\n",
    "        image_width = image.shape[2]        \n",
    "        \n",
    "        condition = image[:, :, :image_width // 2]\n",
    "        real = image[:, :, image_width // 2:]\n",
    "        \n",
    "        target_size = self.target_size\n",
    "        if target_size:\n",
    "            condition = nn.functional.interpolate(condition, size=target_size)\n",
    "            real = nn.functional.interpolate(real, size=target_size)\n",
    "        \n",
    "        return real, condition\n",
    "    \n",
    "    \n",
    "dataset = FacadesDataset(path, target_size=target_size)\n",
    "dataloader = DataLoader(dataset, batch_size=batch_size, shuffle=True)\n",
    "transforms.functional.to_pil_image(dataset[0][0])\n",
    "transforms.functional.to_pil_image(dataset[0][0]).size\n",
    "dataset[0][0].shape"
   ]
  },
  {
   "cell_type": "code",
   "execution_count": null,
   "metadata": {},
   "outputs": [],
   "source": [
    "def _center_crop(image, new_shape):\n",
    "    h, w = image.shape[-2:]\n",
    "    n_h, n_w = new_shape[-2:]\n",
    "    cy, cx = int(h / 2), int(w / 2)\n",
    "    xmin, ymin = cx - n_w // 2, cy - n_h // 2\n",
    "    xmax, ymax = xmin + n_w, ymin + n_h\n",
    "    cropped_image = image[..., xmin:xmax, ymin:ymax]\n",
    "    return cropped_image\n",
    "\n",
    "\n",
    "class ConvBlock(nn.Module):\n",
    "    def __init__(self, in_channels, out_channels, use_dropout=False, use_bn=True):\n",
    "        super().__init__()\n",
    "        self.conv1 = nn.Conv2d(in_channels, out_channels, kernel_size=3, padding=1)\n",
    "        self.activation = nn.LeakyReLU(0.2)\n",
    "\n",
    "        if use_bn:\n",
    "            self.batchnorm = nn.BatchNorm2d(out_channels)\n",
    "        self.use_bn = use_bn\n",
    "\n",
    "        if use_dropout:\n",
    "            self.dropout = nn.Dropout()\n",
    "        self.use_dropout = use_dropout\n",
    "\n",
    "    def forward(self, x):\n",
    "        x = self.conv1(x)\n",
    "        if self.use_bn:\n",
    "            x = self.batchnorm(x)\n",
    "        if self.use_dropout:\n",
    "            x = self.dropout(x)\n",
    "        x = self.activation(x)\n",
    "        return x\n",
    "\n",
    "\n",
    "class UpSampleConv(nn.Module):\n",
    "\n",
    "    def __init__(self, input_channels, use_dropout=False, use_bn=True):\n",
    "        super().__init__()\n",
    "        self.upsample = nn.Upsample(scale_factor=2, mode='bilinear', align_corners=True)\n",
    "        self.conv1 = nn.Conv2d(input_channels, input_channels // 2, kernel_size=2)\n",
    "        self.conv2 = nn.Conv2d(input_channels, input_channels // 2, kernel_size=3, padding=1)\n",
    "        self.conv3 = nn.Conv2d(input_channels // 2, input_channels // 2, kernel_size=2, padding=1)\n",
    "        if use_bn:\n",
    "            self.batchnorm = nn.BatchNorm2d(input_channels // 2)\n",
    "        self.use_bn = use_bn\n",
    "        self.activation = nn.ReLU()\n",
    "        if use_dropout:\n",
    "            self.dropout = nn.Dropout()\n",
    "        self.use_dropout = use_dropout\n",
    "\n",
    "    def forward(self, x, skip_con_x):\n",
    "\n",
    "        x = self.upsample(x)\n",
    "        x = self.conv1(x)\n",
    "        skip_con_x = _center_crop(skip_con_x, x.shape)\n",
    "        x = torch.cat([x, skip_con_x], axis=1)\n",
    "        x = self.conv2(x)\n",
    "        if self.use_bn:\n",
    "            x = self.batchnorm(x)\n",
    "        if self.use_dropout:\n",
    "            x = self.dropout(x)\n",
    "        x = self.activation(x)\n",
    "        x = self.conv3(x)\n",
    "        if self.use_bn:\n",
    "            x = self.batchnorm(x)\n",
    "        if self.use_dropout:\n",
    "            x = self.dropout(x)\n",
    "        x = self.activation(x)\n",
    "        return x\n",
    "\n",
    "\n",
    "class DownSampleConv(nn.Module):\n",
    "\n",
    "    def __init__(self, in_channels, use_dropout=False, use_bn=False):\n",
    "        super().__init__()\n",
    "        self.maxpool = nn.MaxPool2d(kernel_size=2, stride=2)\n",
    "\n",
    "        if use_bn:\n",
    "            self.batchnorm = nn.BatchNorm2d(in_channels * 2)\n",
    "        self.use_bn = use_bn\n",
    "\n",
    "        if use_dropout:\n",
    "            self.dropout = nn.Dropout()\n",
    "        self.use_dropout = use_dropout\n",
    "\n",
    "        self.conv_block1 = ConvBlock(in_channels, in_channels * 2, use_dropout, use_bn)\n",
    "        self.conv_block2 = ConvBlock(in_channels * 2, in_channels * 2, use_dropout, use_bn)\n",
    "\n",
    "    def forward(self, x):\n",
    "        x = self.conv_block1(x)\n",
    "        x = self.conv_block2(x)\n",
    "        x = self.maxpool(x)\n",
    "        return x\n",
    "\n",
    "\n",
    "class Generator(nn.Module):\n",
    "    def __init__(self, in_channels, out_channels, hidden_channels=32, depth=6):\n",
    "        super().__init__()\n",
    "\n",
    "        self.conv1 = nn.Conv2d(in_channels, hidden_channels, kernel_size=1)\n",
    "\n",
    "        self.conv_final = nn.Conv2d(hidden_channels,\n",
    "                                    out_channels,\n",
    "                                    kernel_size=1)\n",
    "        self.depth = depth\n",
    "\n",
    "        self.contracting_layers = []\n",
    "        self.expanding_layers = []\n",
    "        self.sigmoid = nn.Sigmoid()\n",
    "\n",
    "        # encoding/contracting path of the Generator\n",
    "        for i in range(depth):\n",
    "            down_sample_conv = DownSampleConv(hidden_channels * 2 ** i,\n",
    "                                              use_dropout=(True if i < 3 else False))\n",
    "            self.contracting_layers.append(down_sample_conv)\n",
    "\n",
    "        # Upsampling/Expanding path of the Generator\n",
    "        for i in range(depth):\n",
    "            upsample_conv = UpSampleConv(hidden_channels * 2 ** (i + 1))\n",
    "            self.expanding_layers.append(upsample_conv)\n",
    "\n",
    "        self.contracting_layers = nn.ModuleList(self.contracting_layers)\n",
    "        self.expanding_layers = nn.ModuleList(self.expanding_layers)\n",
    "\n",
    "    def forward(self, x):\n",
    "        depth = self.depth\n",
    "        contractive_x = []\n",
    "\n",
    "        x = self.conv1(x)\n",
    "        contractive_x.append(x)\n",
    "\n",
    "        for i in range(depth):\n",
    "            x = self.contracting_layers[i](x)\n",
    "            contractive_x.append(x)\n",
    "\n",
    "        for i in range(depth - 1, -1, -1):\n",
    "            x = self.expanding_layers[i](x, contractive_x[i])\n",
    "        x = self.conv_final(x)\n",
    "\n",
    "        return self.sigmoid(x)\n",
    "\n",
    "\n",
    "class PatchGAN(nn.Module):\n",
    "\n",
    "    def __init__(self, input_channels, hidden_channels=8):\n",
    "        super().__init__()\n",
    "        self.conv1 = nn.Conv2d(input_channels, hidden_channels, kernel_size=1)\n",
    "        self.contract1 = DownSampleConv(hidden_channels, use_bn=False)\n",
    "        self.contract2 = DownSampleConv(hidden_channels * 2)\n",
    "        self.contract3 = DownSampleConv(hidden_channels * 4)\n",
    "        self.contract4 = DownSampleConv(hidden_channels * 8)\n",
    "        self.final = nn.Conv2d(hidden_channels * 16, 1, kernel_size=1)\n",
    "\n",
    "    def forward(self, x, y):\n",
    "        x = torch.cat([x, y], axis=1)\n",
    "        x0 = self.conv1(x)\n",
    "        x1 = self.contract1(x0)\n",
    "        x2 = self.contract2(x1)\n",
    "        x3 = self.contract3(x2)\n",
    "        x4 = self.contract4(x3)\n",
    "        xn = self.final(x4)\n",
    "        return xn\n"
   ]
  },
  {
   "cell_type": "code",
   "execution_count": null,
   "metadata": {},
   "outputs": [],
   "source": [
    "gen = Generator(3, 3)"
   ]
  },
  {
   "cell_type": "code",
   "execution_count": null,
   "metadata": {},
   "outputs": [],
   "source": [
    "x = torch.randn(1, 1024, 7, 7)"
   ]
  },
  {
   "cell_type": "code",
   "execution_count": null,
   "metadata": {},
   "outputs": [
    {
     "data": {
      "text/plain": [
       "torch.Size([2, 3, 256, 256])"
      ]
     },
     "execution_count": null,
     "metadata": {},
     "output_type": "execute_result"
    }
   ],
   "source": [
    "gen(torch.randn(2, 3, 256, 256)).shape"
   ]
  },
  {
   "cell_type": "code",
   "execution_count": null,
   "metadata": {},
   "outputs": [],
   "source": [
    "# https://stackoverflow.com/questions/49433936/how-to-initialize-weights-in-pytorch\n",
    "\n",
    "def _weights_init(m):\n",
    "    if isinstance(m, (nn.Conv2d, nn.ConvTranspose2d)):\n",
    "        torch.nn.init.normal_(m.weight, 0.0, 0.02)\n",
    "    if isinstance(m, nn.BatchNorm2d):\n",
    "        torch.nn.init.normal_(m.weight, 0.0, 0.02)\n",
    "        torch.nn.init.constant_(m.bias, 0)"
   ]
  },
  {
   "cell_type": "code",
   "execution_count": null,
   "metadata": {},
   "outputs": [],
   "source": [
    "class Pix2Pix(pl.LightningModule):\n",
    "    def __init__(self,\n",
    "                 in_channels,\n",
    "                 out_channels,\n",
    "                 hidden_channels=32,\n",
    "                 depth=6,\n",
    "                 learning_rate=0.0002,\n",
    "                 lambda_recon=200):\n",
    "\n",
    "        super().__init__()\n",
    "        self.save_hyperparameters()\n",
    "\n",
    "        self.gen = Generator(in_channels, out_channels, hidden_channels, depth)\n",
    "        self.patch_gan = PatchGAN(in_channels + out_channels, hidden_channels=8)\n",
    "\n",
    "        # intializing weights\n",
    "        self.gen = self.gen.apply(_weights_init)\n",
    "        self.patch_gan = self.patch_gan.apply(_weights_init)\n",
    "\n",
    "        self.adversarial_criterion = nn.BCEWithLogitsLoss()\n",
    "        self.recon_criterion = nn.L1Loss()\n",
    "\n",
    "    def _gen_step(self, real_images, conditioned_images):\n",
    "        # Pix2Pix has adversarial and a reconstruction loss\n",
    "        # First calculate the adversarial loss\n",
    "        fake_images = self.gen(conditioned_images)\n",
    "        disc_logits = self.patch_gan(fake_images, conditioned_images)\n",
    "        adversarial_loss = self.adversarial_criterion(disc_logits, torch.ones_like(disc_logits))\n",
    "\n",
    "        # calculate reconstruction loss\n",
    "        recon_loss = self.recon_criterion(fake_images, real_images)\n",
    "        lambda_recon = self.hparams.lambda_recon\n",
    "\n",
    "        return adversarial_loss + lambda_recon * recon_loss\n",
    "\n",
    "    def _disc_step(self, real_images, conditioned_images):\n",
    "        fake_images = self.gen(conditioned_images).detach()\n",
    "        fake_logits = self.patch_gan(fake_images, conditioned_images)\n",
    "\n",
    "        real_logits = self.patch_gan(real_images, conditioned_images)\n",
    "\n",
    "        fake_loss = self.adversarial_criterion(fake_logits, torch.zeros_like(fake_logits))\n",
    "        real_loss = self.adversarial_criterion(real_logits, torch.ones_like(real_logits))\n",
    "        return (real_loss + fake_loss) / 2\n",
    "\n",
    "    def configure_optimizers(self):\n",
    "        lr = self.hparams.learning_rate\n",
    "        gen_opt = torch.optim.Adam(self.gen.parameters(), lr=lr)\n",
    "        disc_opt = torch.optim.Adam(self.patch_gan.parameters(), lr=lr)\n",
    "        return disc_opt, gen_opt\n",
    "\n",
    "    def training_step(self, batch, batch_idx, optimizer_idx):\n",
    "        real, conditioned = batch\n",
    "\n",
    "        loss = None\n",
    "        if optimizer_idx == 0:\n",
    "            loss = self._disc_step(real, conditioned)\n",
    "            self.log('PatchGAN Loss', loss)\n",
    "        elif optimizer_idx == 1:\n",
    "            loss = self._gen_step(real, conditioned)\n",
    "            self.log('Generator Loss', loss)\n",
    "\n",
    "        return loss"
   ]
  },
  {
   "cell_type": "code",
   "execution_count": null,
   "metadata": {},
   "outputs": [],
   "source": [
    "pix2pix = Pix2Pix(3, 3)"
   ]
  },
  {
   "cell_type": "code",
   "execution_count": null,
   "metadata": {},
   "outputs": [
    {
     "name": "stderr",
     "output_type": "stream",
     "text": [
      "GPU available: False, used: False\n",
      "TPU available: None, using: 0 TPU cores\n"
     ]
    }
   ],
   "source": [
    "trainer = pl.Trainer(max_epochs=20, gpus=0)"
   ]
  },
  {
   "cell_type": "code",
   "execution_count": null,
   "metadata": {},
   "outputs": [
    {
     "name": "stderr",
     "output_type": "stream",
     "text": [
      "\n",
      "  | Name                  | Type              | Params\n",
      "------------------------------------------------------------\n",
      "0 | gen                   | Generator         | 117 M \n",
      "1 | patch_gan             | PatchGAN          | 294 K \n",
      "2 | adversarial_criterion | BCEWithLogitsLoss | 0     \n",
      "3 | recon_criterion       | L1Loss            | 0     \n",
      "------------------------------------------------------------\n",
      "117 M     Trainable params\n",
      "0         Non-trainable params\n",
      "117 M     Total params\n",
      "/Users/aniket/miniconda3/envs/torch/lib/python3.8/site-packages/pytorch_lightning/utilities/distributed.py:49: UserWarning: The dataloader, train dataloader, does not have many workers which may be a bottleneck. Consider increasing the value of the `num_workers` argument` (try 8 which is the number of cpus on this machine) in the `DataLoader` init to improve performance.\n",
      "  warnings.warn(*args, **kwargs)\n"
     ]
    },
    {
     "data": {
      "application/vnd.jupyter.widget-view+json": {
       "model_id": "7f9a55f2a15443bc8b88325e202fcc09",
       "version_major": 2,
       "version_minor": 0
      },
      "text/plain": [
       "HBox(children=(HTML(value='Training'), FloatProgress(value=1.0, bar_style='info', layout=Layout(flex='2'), max…"
      ]
     },
     "metadata": {},
     "output_type": "display_data"
    },
    {
     "name": "stderr",
     "output_type": "stream",
     "text": [
      "/Users/aniket/miniconda3/envs/torch/lib/python3.8/site-packages/pytorch_lightning/utilities/distributed.py:49: UserWarning: Detected KeyboardInterrupt, attempting graceful shutdown...\n",
      "  warnings.warn(*args, **kwargs)\n"
     ]
    },
    {
     "name": "stdout",
     "output_type": "stream",
     "text": [
      "\n"
     ]
    },
    {
     "data": {
      "text/plain": [
       "1"
      ]
     },
     "execution_count": null,
     "metadata": {},
     "output_type": "execute_result"
    }
   ],
   "source": [
    "trainer.fit(pix2pix, dataloader)"
   ]
  },
  {
   "cell_type": "code",
   "execution_count": null,
   "metadata": {},
   "outputs": [],
   "source": []
  },
  {
   "cell_type": "code",
   "execution_count": null,
   "metadata": {},
   "outputs": [],
   "source": []
  }
 ],
 "metadata": {
  "kernelspec": {
   "display_name": "Python 3",
   "language": "python",
   "name": "python3"
  }
 },
 "nbformat": 4,
 "nbformat_minor": 1
}
